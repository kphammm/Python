{
 "cells": [
  {
   "cell_type": "code",
   "execution_count": 7,
   "id": "09e63b35",
   "metadata": {},
   "outputs": [
    {
     "name": "stdout",
     "output_type": "stream",
     "text": [
      "The mean of BostonHousing: 22.532806324110698\n",
      "The max of BostonHousing: 50.0\n",
      "The min of BostonHousing: 5.0\n",
      "The range of BostonHousing: 45.0\n",
      "The variance of BostonHousing: 84.5867235940986\n",
      "The standard deviaion of BostonHousing: 9.19710408737982\n",
      "The mode of BostonHousing: 50.0\n",
      "The 40 percentile of BostonHousing: 19.7\n",
      "The 80 percentile of BostonHousing: 28.2\n"
     ]
    },
    {
     "data": {
      "text/plain": [
       "(None, None)"
      ]
     },
     "execution_count": 7,
     "metadata": {},
     "output_type": "execute_result"
    }
   ],
   "source": [
    "import pandas as pd\n",
    "import statistics\n",
    "import csv\n",
    "import numpy as np\n",
    "\n",
    "df= pd.read_csv('BostonHousing.csv' , usecols=['medv'])\n",
    "\n",
    "medv = df['medv'].to_numpy()\n",
    "\n",
    "def mean(array):\n",
    "    sum = 0\n",
    "    #iterates through the array and adds all the elements up\n",
    "    for i in range(0,len(array)):\n",
    "        sum = sum + array[i]\n",
    "    #converts the mean to cm\n",
    "    return (sum/len(array))\n",
    "\n",
    "def greatest(array):\n",
    "    max = array[0]\n",
    "    #compares each element in the array and replaces the max accordingly\n",
    "    for i in range(0,len(array)):\n",
    "        if array[i]>max:\n",
    "            max = array[i]\n",
    "    return max\n",
    "    \n",
    "def least(array):\n",
    "    min = array[0]\n",
    "    month = 0\n",
    "    #compares each element in the array and replaces the min accordingly\n",
    "    for i in range(0,len(array)):\n",
    "        if array[i]<min:\n",
    "            min = array[i]\n",
    "    return min\n",
    "def statRange(array):\n",
    "    return max(array)-min(array)\n",
    "\n",
    "def variance(array):\n",
    "    var = 0\n",
    "    #puts each value in the equation for variance\n",
    "    for i in range(0,len(array)):\n",
    "        var = var + (array[i]-mean(array))**2\n",
    "    return var/(len(array)-1)\n",
    "#returns the square root of variance function\n",
    "def sd(array):\n",
    "    return variance(array)**(1/2)\n",
    "def mode(array):\n",
    "    occurancesArray = [0]*len(array)\n",
    "    #compares the current element with all the elements in the array and places the # of occurances in an array \n",
    "    for i in range(0,len(array)):\n",
    "        occurances = 0;\n",
    "        current = array[i]\n",
    "        for j in range(0,len(array)):\n",
    "            if(current == array[j]):\n",
    "                occurances = occurances + 1\n",
    "        occurancesArray[i] = occurances \n",
    "    #returns the element with the greatest occurances  \n",
    "    for i in range(0,len(occurancesArray)):\n",
    "        if(greatest(occurancesArray)==occurancesArray[i]):\n",
    "            return(array[i])\n",
    "\n",
    "def percentile(percent,array):\n",
    "    #calculates the index that the percentage would be at\n",
    "    n = (int)(percent/100 * (len(array)))\n",
    "    array.sort()\n",
    "    for i in range(0,len(array)):\n",
    "        if(i == n):\n",
    "            return array[i]\n",
    "\n",
    "print (\"The mean of BostonHousing:\", end =\" \"),print (mean(medv))\n",
    "print (\"The max of BostonHousing:\", end =\" \"),print (greatest(medv))\n",
    "print (\"The min of BostonHousing:\", end =\" \"),print (least(medv))\n",
    "print (\"The range of BostonHousing:\", end =\" \"),print (statRange(medv))\n",
    "print (\"The variance of BostonHousing:\", end =\" \"),print (variance(medv))\n",
    "print (\"The standard deviaion of BostonHousing:\", end =\" \"),print (sd(medv))\n",
    "print (\"The mode of BostonHousing:\", end =\" \"),print (mode(medv))\n",
    "print (\"The 40 percentile of BostonHousing:\", end =\" \"),print (percentile(40, medv))\n",
    "print (\"The 80 percentile of BostonHousing:\", end =\" \"),print (percentile(80, medv))"
   ]
  },
  {
   "cell_type": "code",
   "execution_count": 43,
   "id": "7b6b20aa",
   "metadata": {},
   "outputs": [
    {
     "name": "stdout",
     "output_type": "stream",
     "text": [
      "The System of equations is \n",
      "x + 2y - 3z + 4w = 12\n",
      "2x + 2y - 2z + 3w = 10\n",
      "0 + y + z + 0 = -1\n",
      "x - y + z - 2w = -4\n",
      "\n",
      "The Matrix is represented by\n",
      " [[ 1.  2. -3.  4. 12.]\n",
      " [ 2.  2. -2.  3. 10.]\n",
      " [ 0.  1.  1.  0. -1.]\n",
      " [ 1. -1.  1. -2. -4.]]\n",
      "\n",
      "The Solution is [ 1.  0. -1.  2.]\n"
     ]
    }
   ],
   "source": [
    "import numpy as np\n",
    "\n",
    "A = [0]*4\n",
    "#creates an array based on the text file lines\n",
    "with open('input.txt', 'r') as f:\n",
    "    array = np.array([[float(num) for num in line.split(' ')] for line in f])\n",
    "    \n",
    "#creates array for each row but does not incude the last element\n",
    "for i in range(0,len(array)):\n",
    "    A[i] = np.array([array[i][0],array[i][1],array[i][2],array[i][3]])\n",
    "A_inverse = np.linalg.inv(A)\n",
    "\n",
    "#numbers after the = sign\n",
    "last = np.array([array[0][4],array[1][4],array[2][4],array[3][4]])\n",
    "#gets the dot product of A inverse and the numbers after the = sign\n",
    "solution = np.dot (A_inverse , last)\n",
    "\n",
    "print(\"The System of equations is \\nx + 2y - 3z + 4w = 12\\n2x + 2y - 2z + 3w = 10\\n0 + y + z + 0 = -1\\nx - y + z - 2w = -4\\n\")\n",
    "print(\"The Matrix is represented by\\n\", array)\n",
    "print(\"\\nThe Solution is\", solution)"
   ]
  },
  {
   "cell_type": "code",
   "execution_count": null,
   "id": "3df1c486",
   "metadata": {},
   "outputs": [],
   "source": []
  }
 ],
 "metadata": {
  "kernelspec": {
   "display_name": "Python 3 (ipykernel)",
   "language": "python",
   "name": "python3"
  },
  "language_info": {
   "codemirror_mode": {
    "name": "ipython",
    "version": 3
   },
   "file_extension": ".py",
   "mimetype": "text/x-python",
   "name": "python",
   "nbconvert_exporter": "python",
   "pygments_lexer": "ipython3",
   "version": "3.9.13"
  }
 },
 "nbformat": 4,
 "nbformat_minor": 5
}
