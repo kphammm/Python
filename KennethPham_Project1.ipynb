{
 "cells": [
  {
   "cell_type": "code",
   "execution_count": 24,
   "id": "9e626d8c",
   "metadata": {},
   "outputs": [
    {
     "name": "stdout",
     "output_type": "stream",
     "text": [
      "Before Sorting:  [67, 80, 8, 21, 40, 89, 9, 29, 46, 30]\n",
      "After Sorting:  [8, 9, 21, 29, 30, 40, 46, 67, 80, 89]\n"
     ]
    },
    {
     "data": {
      "text/plain": [
       "(None, None)"
      ]
     },
     "execution_count": 24,
     "metadata": {},
     "output_type": "execute_result"
    }
   ],
   "source": [
    "import random\n",
    "def merge_sort(array):\n",
    "    #ensures the array is greater than 1\n",
    "    if len(array)>1:\n",
    "        #creates two arrays for the left and right side\n",
    "        left_array = array[:len(array)//2]\n",
    "        right_array = array[len(array)//2:]\n",
    "        \n",
    "        #recursive part \n",
    "        merge_sort(left_array)\n",
    "        merge_sort(right_array)\n",
    "        \n",
    "        # merge\n",
    "        j = 0 #left_arr index\n",
    "        i = 0 #right_arr index\n",
    "        k = 0 #merged array index\n",
    "        #iterates through both arrays and sorts the elements once the right array is greater than the left\n",
    "        while i < len(left_array) and j < len(right_array):\n",
    "            if left_array[i] < right_array[j]:\n",
    "                array[k] = left_array[i]\n",
    "                i += 1\n",
    "                k += 1\n",
    "            else:\n",
    "                array[k] = right_array[j]\n",
    "                j += 1\n",
    "                k += 1\n",
    "        #copies the elements of the left array\n",
    "        while i < len(left_array):\n",
    "            array[k] = left_array[i]\n",
    "            i += 1\n",
    "            k += 1\n",
    "        #copies the elements of the right array \n",
    "        while j < len(right_array):\n",
    "            array[k] = right_array[j]\n",
    "            j += 1\n",
    "            k += 1\n",
    "\n",
    "#creates a random array of 10 integers from 0-100\n",
    "arr_test= [0,0,0,0,0,0,0,0,0,0]\n",
    "for i in range(0,len(arr_test)):\n",
    "    arr_test[i]= random.randint(0,100)\n",
    "\n",
    "print(\"Before Sorting: \", end =\" \"),print(arr_test)\n",
    "merge_sort(arr_test)\n",
    "print(\"After Sorting: \", end =\" \"),print(arr_test)"
   ]
  },
  {
   "cell_type": "code",
   "execution_count": 3,
   "id": "38a23f1c",
   "metadata": {},
   "outputs": [],
   "source": [
    "def greatest(rainfall):\n",
    "    max = rainfall[0]\n",
    "    #compares each element in the array and replaces the max accordingly\n",
    "    for i in range(0,len(rainfall)):\n",
    "        if rainfall[i]>max:\n",
    "            max = rainfall[i]\n",
    "            \n",
    "    return rainfall.index(max)+1\n",
    "    \n",
    "def least(rainfall):\n",
    "    min = rainfall[0]\n",
    "    month = 0\n",
    "    #compares each element in the array and replaces the min accordingly\n",
    "    for i in range(0,len(rainfall)):\n",
    "        if rainfall[i]<min:\n",
    "            min = rainfall[i]\n",
    "    return rainfall.index(min)+1\n",
    "\n",
    "def mean(rainfall):\n",
    "    sum = 0\n",
    "    #iterates through the array and adds all the elements up\n",
    "    for i in range(0,len(rainfall)):\n",
    "        sum = sum + rainfall[i]\n",
    "    #converts the mean to cm\n",
    "    return (sum/12)*2.54\n",
    "\n",
    "def greaterThanMean(rainfall):\n",
    "    #calls the mean method and converts to inches\n",
    "    avg = mean(rainfall)/2.54 \n",
    "    num = 0\n",
    "    for i in range(0,len(rainfall)):\n",
    "        #if element is greater than the mean, num is increased\n",
    "        if(rainfall[i]>avg):\n",
    "            num = num+1\n",
    "    return num\n",
    "\n",
    "def bubbleSort(rainfall):\n",
    "    #creates a copy of the rainfall array\n",
    "    dupe = rainfall.copy()\n",
    "    months = [0]*12\n",
    "    #the unsorted array\n",
    "    for i in range (0, len(dupe)):\n",
    "        #the sorted array\n",
    "        for k in range (0,len(dupe)-i-1):\n",
    "             #if the element in front is greater, they are swapped\n",
    "            temp = dupe[k]\n",
    "            if(dupe[k]<dupe[k+1]):\n",
    "                dupe[k] = dupe[k+1]\n",
    "                dupe[k+1] = temp\n",
    "    #creates an array with the elements that match the index of the original rainfall array\n",
    "    for i in range (0,len(months)):\n",
    "        months[i] = rainfall.index(dupe[i])+1\n",
    "        \n",
    "    return months"
   ]
  },
  {
   "cell_type": "code",
   "execution_count": 4,
   "id": "2e537d93",
   "metadata": {},
   "outputs": [
    {
     "name": "stdout",
     "output_type": "stream",
     "text": [
      "The month with the greatest rainfall: 1\n",
      "The month with the least rainfall: 6\n",
      "The mean of rainfall in CM: 225.12866666666665\n",
      "Number of months greater than mean: 6\n",
      "Sorted Months by rainfall in from greatest to least: [1, 11, 12, 9, 3, 3, 4, 8, 2, 7, 5, 6]\n"
     ]
    }
   ],
   "source": [
    "def main():\n",
    "    months = [1,2,3,4,5,6,7,8,9,10,11,12]\n",
    "    rainfall = [133.5,64.3,104.4,86.3,48.5,35.4,55.3,84.9,104.5,104.4,122.6,119.5]\n",
    "    print (\"The month with the greatest rainfall:\", end =\" \"), print (greatest(rainfall))\n",
    "    print (\"The month with the least rainfall:\", end =\" \"),print (least(rainfall))\n",
    "    print (\"The mean of rainfall in CM:\", end =\" \"),print (mean(rainfall))\n",
    "    print (\"Number of months greater than mean:\", end =\" \"),print (greaterThanMean(rainfall))\n",
    "    print (\"Sorted Months by rainfall in from greatest to least:\", end =\" \"), print (bubbleSort(rainfall))\n",
    "\n",
    "if __name__=='__main__':\n",
    "    main()"
   ]
  },
  {
   "cell_type": "code",
   "execution_count": null,
   "id": "54ed7857",
   "metadata": {},
   "outputs": [],
   "source": []
  }
 ],
 "metadata": {
  "kernelspec": {
   "display_name": "Python 3 (ipykernel)",
   "language": "python",
   "name": "python3"
  },
  "language_info": {
   "codemirror_mode": {
    "name": "ipython",
    "version": 3
   },
   "file_extension": ".py",
   "mimetype": "text/x-python",
   "name": "python",
   "nbconvert_exporter": "python",
   "pygments_lexer": "ipython3",
   "version": "3.9.13"
  }
 },
 "nbformat": 4,
 "nbformat_minor": 5
}
