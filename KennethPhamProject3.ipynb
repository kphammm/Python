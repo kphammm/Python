{
 "cells": [
  {
   "cell_type": "code",
   "execution_count": 36,
   "id": "8f0dbc4b",
   "metadata": {
    "scrolled": true
   },
   "outputs": [
    {
     "name": "stdout",
     "output_type": "stream",
     "text": [
      "0    87.9\n",
      "1    77.2\n",
      "2    98.8\n",
      "3    83.2\n",
      "4    69.1\n",
      "5    86.8\n",
      "6    85.5\n",
      "7    94.3\n",
      "8    74.2\n",
      "9    94.5\n",
      "Name: Grade, dtype: object\n",
      "0    B\n",
      "1    C\n",
      "2    A\n",
      "3    B\n",
      "4    D\n",
      "5    B\n",
      "6    B\n",
      "7    A\n",
      "8    C\n",
      "9    A\n",
      "Name: Letter Grade, dtype: object\n"
     ]
    }
   ],
   "source": [
    "import csv\n",
    "import pandas as pd\n",
    "pd.options.mode.chained_assignment = None  # default='warn'\n",
    "\n",
    "file = open(\"Ten_Students_Scores.csv\", \"r\")\n",
    "data = list(csv.reader(file, delimiter=\",\"))\n",
    "file.close()\n",
    "\n",
    "df = pd.read_csv('Ten_Students_Scores.csv')\n",
    "df[\"Grade\"] = \" \"\n",
    "df[\"Letter Grade\"] = \"0\"\n",
    "\n",
    "\n",
    "      \n",
    "for i in range(1,len(data)):\n",
    "    grade=((float(data[i][3])*0.2)+(float(data[i][4])*0.2)+(float(data[i][5])*0.3)+(float(data[i][6])*0.3))\n",
    "    df[\"Grade\"][i-1] = (grade)\n",
    "    if grade>=90:\n",
    "        df[\"Letter Grade\"][i-1] = \"A\"\n",
    "    if grade>=80 and grade<90:\n",
    "        df[\"Letter Grade\"][i-1] = \"B\"\n",
    "    if grade>=70 and grade<80:\n",
    "        df[\"Letter Grade\"][i-1] = \"C\"\n",
    "    if grade<70 :\n",
    "        df[\"Letter Grade\"][i-1] = \"D\"\n",
    "    \n",
    "    \n",
    "    \n",
    "\n",
    "        \n",
    "#print(df)\n",
    "#df.to_csv('Ten_Students_Grades.CSV', header=False, index=False)"
   ]
  },
  {
   "cell_type": "code",
   "execution_count": 2,
   "id": "51e34728",
   "metadata": {},
   "outputs": [
    {
     "name": "stdout",
     "output_type": "stream",
     "text": [
      "Opened database successfully\n"
     ]
    },
    {
     "ename": "OperationalError",
     "evalue": "table Ten_Students already exists",
     "output_type": "error",
     "traceback": [
      "\u001b[1;31m---------------------------------------------------------------------------\u001b[0m",
      "\u001b[1;31mOperationalError\u001b[0m                          Traceback (most recent call last)",
      "\u001b[1;32m~\\AppData\\Local\\Temp\\ipykernel_3740\\1337863081.py\u001b[0m in \u001b[0;36m<module>\u001b[1;34m\u001b[0m\n\u001b[0;32m      4\u001b[0m \u001b[0mprint\u001b[0m \u001b[1;33m(\u001b[0m\u001b[1;34m\"Opened database successfully\"\u001b[0m\u001b[1;33m)\u001b[0m\u001b[1;33m\u001b[0m\u001b[1;33m\u001b[0m\u001b[0m\n\u001b[0;32m      5\u001b[0m \u001b[1;33m\u001b[0m\u001b[0m\n\u001b[1;32m----> 6\u001b[1;33m conn.execute('''CREATE TABLE Ten_Students\n\u001b[0m\u001b[0;32m      7\u001b[0m          (ID INT PRIMARY KEY     NOT NULL,\n\u001b[0;32m      8\u001b[0m          \u001b[0mFirst_name\u001b[0m           \u001b[0mTEXT\u001b[0m    \u001b[0mNOT\u001b[0m \u001b[0mNULL\u001b[0m\u001b[1;33m,\u001b[0m\u001b[1;33m\u001b[0m\u001b[1;33m\u001b[0m\u001b[0m\n",
      "\u001b[1;31mOperationalError\u001b[0m: table Ten_Students already exists"
     ]
    }
   ],
   "source": [
    "import sqlite3\n",
    "\n",
    "conn = sqlite3.connect('Student.db')\n",
    "print (\"Opened database successfully\")\n",
    "\n",
    "conn.execute('''CREATE TABLE Ten_Students\n",
    "         (ID INT PRIMARY KEY     NOT NULL,\n",
    "         First_name           TEXT    NOT NULL,\n",
    "         Last_name            TEXT    NOT NULL,\n",
    "         Midterm              REAL,\n",
    "         Final                REAL,\n",
    "         Project1             REAL,\n",
    "         Project2             REAL,\n",
    "         Grade                REAL,\n",
    "         Letter_Grade         Text);''')\n",
    "print (\"Table created successfully\")\n",
    "\n",
    "conn.close()"
   ]
  },
  {
   "cell_type": "code",
   "execution_count": 4,
   "id": "e58d3e86",
   "metadata": {
    "scrolled": true
   },
   "outputs": [
    {
     "ename": "OperationalError",
     "evalue": "near \"df\": syntax error",
     "output_type": "error",
     "traceback": [
      "\u001b[1;31m---------------------------------------------------------------------------\u001b[0m",
      "\u001b[1;31mOperationalError\u001b[0m                          Traceback (most recent call last)",
      "\u001b[1;32m~\\AppData\\Local\\Temp\\ipykernel_14876\\1416430112.py\u001b[0m in \u001b[0;36m<module>\u001b[1;34m\u001b[0m\n\u001b[0;32m     11\u001b[0m \u001b[1;33m\u001b[0m\u001b[0m\n\u001b[0;32m     12\u001b[0m     \u001b[0mquery\u001b[0m \u001b[1;33m=\u001b[0m \u001b[1;34m\"INSERT INTO playlists VALUES df\"\u001b[0m\u001b[1;33m\u001b[0m\u001b[1;33m\u001b[0m\u001b[0m\n\u001b[1;32m---> 13\u001b[1;33m \u001b[0mcursor\u001b[0m\u001b[1;33m.\u001b[0m\u001b[0mexecute\u001b[0m\u001b[1;33m(\u001b[0m\u001b[0mquery\u001b[0m\u001b[1;33m)\u001b[0m\u001b[1;33m\u001b[0m\u001b[1;33m\u001b[0m\u001b[0m\n\u001b[0m\u001b[0;32m     14\u001b[0m \u001b[1;33m\u001b[0m\u001b[0m\n\u001b[0;32m     15\u001b[0m \u001b[0mdb\u001b[0m\u001b[1;33m.\u001b[0m\u001b[0mcommit\u001b[0m\u001b[1;33m(\u001b[0m\u001b[1;33m)\u001b[0m\u001b[1;33m\u001b[0m\u001b[1;33m\u001b[0m\u001b[0m\n",
      "\u001b[1;31mOperationalError\u001b[0m: near \"df\": syntax error"
     ]
    }
   ],
   "source": [
    "import sqlite3\n",
    "import pandas as pd\n",
    "### Insert Query\n",
    "\n",
    "db = sqlite3.connect('Student.db')\n",
    "cursor = db.cursor()\n",
    "\n",
    "df = pd.read_csv('Ten_Students_Grades.csv')\n",
    "query = \"INSERT INTO playlists VALUES df\"\n",
    "for i, row in df.iterrows():\n",
    "    \n",
    "    query = \"INSERT INTO playlists VALUES df\"\n",
    "cursor.execute(query)\n",
    "\n",
    "db.commit()  \n",
    "print(\"hi\")"
   ]
  },
  {
   "cell_type": "code",
   "execution_count": null,
   "id": "9ca10d51",
   "metadata": {},
   "outputs": [],
   "source": [
    "import pandas as pd\n",
    "import sqlite3\n",
    "db = sqlite3.connect('Student.db')\n",
    "df = pd.read_sql('Select * from Ten_Students', con = db )\n",
    "df"
   ]
  },
  {
   "cell_type": "code",
   "execution_count": null,
   "id": "39e3dd4b",
   "metadata": {},
   "outputs": [],
   "source": []
  }
 ],
 "metadata": {
  "kernelspec": {
   "display_name": "Python 3 (ipykernel)",
   "language": "python",
   "name": "python3"
  },
  "language_info": {
   "codemirror_mode": {
    "name": "ipython",
    "version": 3
   },
   "file_extension": ".py",
   "mimetype": "text/x-python",
   "name": "python",
   "nbconvert_exporter": "python",
   "pygments_lexer": "ipython3",
   "version": "3.9.13"
  }
 },
 "nbformat": 4,
 "nbformat_minor": 5
}
